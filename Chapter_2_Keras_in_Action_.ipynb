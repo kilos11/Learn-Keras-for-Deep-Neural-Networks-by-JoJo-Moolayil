{
  "cells": [
    {
      "cell_type": "markdown",
      "metadata": {
        "id": "view-in-github",
        "colab_type": "text"
      },
      "source": [
        "<a href=\"https://colab.research.google.com/github/kilos11/Learn-Keras-for-Deep-Neural-Networks-by-JoJo-Moolayil/blob/main/Chapter_2_Keras_in_Action_.ipynb\" target=\"_parent\"><img src=\"https://colab.research.google.com/assets/colab-badge.svg\" alt=\"Open In Colab\"/></a>"
      ]
    },
    {
      "cell_type": "markdown",
      "metadata": {
        "id": "KQ9BY68OxCJ5"
      },
      "source": [
        "# Learn Keras for Deep Neural Networks\n",
        "## Chapter 2 - Keras in Action"
      ]
    },
    {
      "cell_type": "markdown",
      "metadata": {
        "id": "i6nnFy-7xCKl"
      },
      "source": [
        "Getting started with Deep Learning\n",
        "* Models"
      ]
    },
    {
      "cell_type": "code",
      "execution_count": null,
      "metadata": {
        "id": "yFfVZvsmxCKz"
      },
      "outputs": [],
      "source": [
        "from keras.models import Sequential\n",
        "from keras.layers import Dense, Activation\n",
        "\n",
        "# Create a sequential model\n",
        "model = Sequential()\n",
        "\n",
        "# Add a dense layer with 10 neurons and input dimension of 15\n",
        "model.add(Dense(10, input_dim=15))\n",
        "\n",
        "# Apply the ReLU activation function to the layer\n",
        "model.add(Activation('relu'))\n",
        "\n",
        "'''\n",
        "Let's break it down:\n",
        "\n",
        "model = Sequential(): This line creates a sequential model, which is a linear stack of layers.\n",
        "In simpler terms, it sets up a structure where we can add layers one after another to build our neural network model.\n",
        "\n",
        "model.add(Dense(10, input_dim=15)): Here, we add a dense layer to our model.\n",
        "A dense layer is a fully connected layer, meaning each neuron in this layer is\n",
        "connected to every neuron in the previous layer. We specify that this layer should have 10 neurons,\n",
        "and the input_dim=15 indicates that the input to this layer has 15 dimensions.\n",
        "\n",
        "model.add(Activation('relu')): After adding the dense layer, we apply an activation function to introduce non-linearity to the output of the layer.\n",
        "In this case, we use the Rectified Linear Unit (ReLU) activation function, which helps the model learn complex patterns and make predictions.\n",
        "'''"
      ]
    },
    {
      "cell_type": "markdown",
      "metadata": {
        "id": "i7Fmq7CfxCLP"
      },
      "source": [
        "#### Core Layers\n",
        "* Dense Layer\n",
        "\n",
        "#### Defintion of a Dense Layer\n",
        "\n",
        "keras.layers.Dense(units, activation=None, use_bias=True,\n",
        "                   kernel_initializer='glorot_uniform',\n",
        "                   bias_initializer='zeros',\n",
        "                   kernel_regularizer=None,\n",
        "                   bias_regularizer=None,\n",
        "                   activity_regularizer=None,\n",
        "                   kernel_constraint=None,\n",
        "                   bias_constraint=None)\n"
      ]
    },
    {
      "cell_type": "code",
      "execution_count": null,
      "metadata": {
        "id": "DSTbIDYTxCLV"
      },
      "outputs": [],
      "source": [
        "# Create a sequential model\n",
        "model = Sequential()\n",
        "\n",
        "# Add a dense layer with 5 neurons, input dimension of 10, and sigmoid activation function\n",
        "model.add(Dense(5, input_dim=10, activation=\"sigmoid\"))\n",
        "\n",
        "# Add another dense layer with 1 neuron and sigmoid activation function\n",
        "model.add(Dense(1, activation=\"sigmoid\"))\n",
        "\n",
        "'''\n",
        "model = Sequential(): This line creates a sequential model, which is a linear stack of layers.\n",
        "It sets up the structure where we can add layers one after another to build our neural network model.\n",
        "\n",
        "model.add(Dense(5, input_dim=10, activation=\"sigmoid\")): Here, we add a dense layer to our model.\n",
        "The Dense layer is a fully connected layer, meaning each neuron in this layer is connected to every neuron in the previous layer.\n",
        " We specify that this layer should have 5 neurons, and the input_dim=10 indicates that the input to this layer has 10 dimensions.\n",
        " Additionally, we set the activation function of this layer to be the sigmoid function, which squashes the output between 0 and 1,\n",
        " allowing us to interpret the output as a probability.\n",
        "\n",
        "model.add(Dense(1, activation=\"sigmoid\")): We add another dense layer to our model. This time, we specify only 1 neuron.\n",
        "The activation function is again sigmoid, which is commonly used when we want the model to make binary predictions (e.g., 0 or 1).\n",
        "'''"
      ]
    },
    {
      "cell_type": "markdown",
      "metadata": {
        "id": "mIoPeFJuxCLd"
      },
      "source": [
        "#### Core Layers\n",
        "* Dropout Layer\n",
        "\n",
        "Definition - keras.layers.Dropout(rate, noise_shape=None, seed=None)\n"
      ]
    },
    {
      "cell_type": "code",
      "execution_count": null,
      "metadata": {
        "id": "0fp_gEjwxCLi"
      },
      "outputs": [],
      "source": [
        "# Import the Dropout layer from Keras\n",
        "from keras.layers import Dropout\n",
        "\n",
        "# Create a sequential model\n",
        "model = Sequential()\n",
        "\n",
        "# Add a dense layer with 5 neurons, input dimension of 10, and sigmoid activation function\n",
        "model.add(Dense(5, input_dim=10, activation=\"sigmoid\"))\n",
        "\n",
        "# Add a Dropout layer with a rate of 0.1 and seed of 100\n",
        "model.add(Dropout(rate=0.1, seed=100))\n",
        "\n",
        "# Add another dense layer with 1 neuron and sigmoid activation function\n",
        "model.add(Dense(1, activation=\"sigmoid\"))\n",
        "\n",
        "'''from keras.layers import Dropout: This line imports the Dropout layer from the Keras library.\n",
        "Dropout is a regularization technique used to prevent overfitting in neural networks by randomly\n",
        "setting a fraction of input units to 0 at each update during training.\n",
        "\n",
        "model = Sequential(): This line creates a sequential model, which is a linear stack of layers.\n",
        "It sets up the structure where we can add layers one after another to build our neural network model.\n",
        "\n",
        "model.add(Dense(5, input_dim=10, activation=\"sigmoid\")): Here, we add a dense layer to our model.\n",
        "The Dense layer is a fully connected layer, and we specify that this layer should have 5 neurons.\n",
        "The input_dim=10 indicates that the input to this layer has 10 dimensions. Additionally,\n",
        "we set the activation function of this layer to be the sigmoid function.\n",
        "\n",
        "model.add(Dropout(rate=0.1, seed=100)): We add a Dropout layer to our model.\n",
        "The rate parameter specifies the fraction of the input units to drop, in this case, 0.1 or 10%.\n",
        "The seed parameter allows us to set a specific random seed for reproducibility.\n",
        "\n",
        "model.add(Dense(1, activation=\"sigmoid\")): Finally, we add another dense layer to our model.\n",
        "This time, we specify only 1 neuron. The activation function is again sigmoid, which is commonly\n",
        "used when we want the model to make binary predictions (e.g., 0 or 1).'''\n"
      ]
    },
    {
      "cell_type": "markdown",
      "metadata": {
        "id": "v92LkrYAxCLp"
      },
      "source": [
        "#### Putting it all together"
      ]
    },
    {
      "cell_type": "code",
      "execution_count": null,
      "metadata": {
        "colab": {
          "base_uri": "https://localhost:8080/"
        },
        "id": "qI2kKJ9HxCLy",
        "outputId": "d016e2b8-f71c-463c-e2d0-e9025dc89cdb"
      },
      "outputs": [
        {
          "name": "stdout",
          "output_type": "stream",
          "text": [
            "Downloading data from https://storage.googleapis.com/tensorflow/tf-keras-datasets/boston_housing.npz\n",
            "57026/57026 [==============================] - 0s 0us/step\n"
          ]
        }
      ],
      "source": [
        "#Download the data using Keras; this will need an active internet connection\n",
        "from keras.datasets import boston_housing\n",
        "(x_train, y_train), (x_test, y_test) = boston_housing.load_data()"
      ]
    },
    {
      "cell_type": "code",
      "execution_count": 7,
      "metadata": {
        "colab": {
          "base_uri": "https://localhost:8080/"
        },
        "id": "DzgIA8kWxCL5",
        "outputId": "34716396-1c56-4f88-812a-0fe34ea392f4"
      },
      "outputs": [
        {
          "output_type": "stream",
          "name": "stdout",
          "text": [
            "Epoch 1/3\n",
            "94/94 [==============================] - 2s 5ms/step - loss: 0.6936 - accuracy: 0.4973 - val_loss: 0.6930 - val_accuracy: 0.4980\n",
            "Epoch 2/3\n",
            "94/94 [==============================] - 0s 3ms/step - loss: 0.6929 - accuracy: 0.5113 - val_loss: 0.6929 - val_accuracy: 0.5105\n",
            "Epoch 3/3\n",
            "94/94 [==============================] - 0s 4ms/step - loss: 0.6927 - accuracy: 0.5125 - val_loss: 0.6932 - val_accuracy: 0.5065\n"
          ]
        },
        {
          "output_type": "execute_result",
          "data": {
            "text/plain": [
              "<keras.src.callbacks.History at 0x7add34632980>"
            ]
          },
          "metadata": {},
          "execution_count": 7
        }
      ],
      "source": [
        "import numpy as np\n",
        "from keras.models import Sequential\n",
        "from keras.layers import Dense, Activation\n",
        "\n",
        "\n",
        "from numpy.random import seed\n",
        "seed(2018)\n",
        "import tensorflow as tf\n",
        "tf.random.set_seed(2018)\n",
        "\n",
        "\n",
        "# Generate dummy training dataset\n",
        "x_train = np.random.random((6000,10))\n",
        "y_train = np.random.randint(2, size=(6000, 1))\n",
        "\n",
        "# Generate dummy validation dataset\n",
        "x_val = np.random.random((2000,10))\n",
        "y_val = np.random.randint(2, size=(2000, 1))\n",
        "\n",
        "# Generate dummy test dataset\n",
        "x_test = np.random.random((2000,10))\n",
        "y_test = np.random.randint(2, size=(2000, 1))\n",
        "\n",
        "#Define the model architecture\n",
        "model = Sequential()\n",
        "model.add(Dense(64, input_dim=10,activation = \"relu\")) #Layer 1\n",
        "model.add(Dense(32,activation = \"relu\"))               #Layer 2\n",
        "model.add(Dense(16,activation = \"relu\"))               #Layer 3\n",
        "model.add(Dense(8,activation = \"relu\"))                #Layer 4\n",
        "model.add(Dense(4,activation = \"relu\"))                #Layer 5\n",
        "model.add(Dense(1,activation = \"sigmoid\"))             #Output Layer\n",
        "\n",
        "#Configure the model\n",
        "model.compile(optimizer='Adam',loss='binary_crossentropy',metrics=['accuracy'])\n",
        "\n",
        "#Train the model\n",
        "model.fit(x_train, y_train, batch_size=64, epochs=3, validation_data=(x_val,y_val))\n"
      ]
    },
    {
      "cell_type": "code",
      "execution_count": 8,
      "metadata": {
        "id": "nd7LDXrZxCMK",
        "outputId": "4e321f81-3ccc-4e51-fa83-f7f135c2c285",
        "colab": {
          "base_uri": "https://localhost:8080/"
        }
      },
      "outputs": [
        {
          "output_type": "stream",
          "name": "stdout",
          "text": [
            "[[0.88234931 0.10432774 0.90700933 0.3063989  0.44640887 0.58998539\n",
            "  0.8371111  0.69780061 0.80280284 0.10721508]\n",
            " [0.75709253 0.99967101 0.725931   0.14144824 0.3567206  0.94270411\n",
            "  0.61016189 0.22757747 0.66873237 0.69290455]\n",
            " [0.41686251 0.17180956 0.97689051 0.33022414 0.62904415 0.16061095\n",
            "  0.08995264 0.97082236 0.81657757 0.57136573]\n",
            " [0.34585315 0.403744   0.13738304 0.90093449 0.93393613 0.04737714\n",
            "  0.67150688 0.03483186 0.25269136 0.55712505]\n",
            " [0.52582348 0.35296779 0.09298297 0.30450898 0.86242986 0.71693654\n",
            "  0.96407149 0.53970186 0.95053982 0.66798156]\n",
            " [0.87424103 0.48120492 0.13739854 0.69022154 0.50211855 0.07451108\n",
            "  0.52351229 0.91856772 0.5274287  0.36424787]\n",
            " [0.92818629 0.49269142 0.23640703 0.53141538 0.16525533 0.371387\n",
            "  0.74225181 0.23704057 0.39196365 0.05938974]\n",
            " [0.10276893 0.55725012 0.81930231 0.48981038 0.90230697 0.49004436\n",
            "  0.00303589 0.84366215 0.54368872 0.13869147]\n",
            " [0.08572875 0.40161209 0.82697863 0.80616256 0.20954603 0.30218791\n",
            "  0.75345933 0.12518232 0.88233405 0.93448737]\n",
            " [0.142472   0.18949702 0.40460224 0.473948   0.09906794 0.47471235\n",
            "  0.84469429 0.79187259 0.35902305 0.74563608]]\n",
            "sdf\n",
            "[[0.26794846 0.45311343 0.3163587  0.40551464 0.83324812 0.29926402\n",
            "  0.58604988 0.4265123  0.39054642 0.11719099]\n",
            " [0.38835659 0.13661398 0.43791187 0.35953925 0.28232502 0.63733196\n",
            "  0.04315783 0.36698055 0.96092323 0.07970832]\n",
            " [0.78676828 0.4734678  0.78487578 0.55263435 0.57265221 0.79656561\n",
            "  0.98978979 0.9059708  0.85610936 0.4178593 ]\n",
            " [0.13634476 0.01439594 0.63673535 0.31518873 0.26061521 0.41831776\n",
            "  0.83293788 0.03042154 0.89161667 0.12073609]\n",
            " [0.74403628 0.34219727 0.81769273 0.11254841 0.00920876 0.36165523\n",
            "  0.50033997 0.84242664 0.40227329 0.06407224]\n",
            " [0.50533902 0.50701475 0.54050708 0.59235759 0.97741647 0.06884431\n",
            "  0.13387683 0.17632566 0.61302174 0.5997502 ]\n",
            " [0.57084323 0.93229789 0.88993136 0.77996226 0.70914402 0.60017046\n",
            "  0.56650348 0.9040863  0.28178547 0.09585478]\n",
            " [0.76576207 0.61956373 0.47285659 0.62899629 0.01747167 0.12566464\n",
            "  0.12694226 0.31119618 0.08738258 0.36606282]\n",
            " [0.56215208 0.68463042 0.18359825 0.43401489 0.42432408 0.56262951\n",
            "  0.16307223 0.73921326 0.12070907 0.0267515 ]\n",
            " [0.89407057 0.1028051  0.63743563 0.72838004 0.9416155  0.979424\n",
            "  0.05262605 0.19090817 0.74782467 0.13233449]]\n"
          ]
        }
      ],
      "source": [
        "print(x_train[:10])\n",
        "print(\"sdf\")\n",
        "print(x_val[:10])"
      ]
    },
    {
      "cell_type": "code",
      "execution_count": 9,
      "metadata": {
        "id": "mDwlr8sdxCMS",
        "outputId": "d9df937d-e84a-480f-fd53-4f37c5dd2303",
        "colab": {
          "base_uri": "https://localhost:8080/"
        }
      },
      "outputs": [
        {
          "output_type": "stream",
          "name": "stdout",
          "text": [
            "Type of the Dataset: <class 'numpy.ndarray'>\n",
            "Shape of training data : (6000, 10)\n",
            "Shape of training labels : (6000, 1)\n",
            "Shape of testing data : <class 'numpy.ndarray'>\n",
            "Shape of testing labels : (2000, 1)\n"
          ]
        }
      ],
      "source": [
        "#Explore the data structure using basic python commands\n",
        "print(\"Type of the Dataset:\",type(y_train))\n",
        "print(\"Shape of training data :\",x_train.shape)\n",
        "print(\"Shape of training labels :\",y_train.shape)\n",
        "print(\"Shape of testing data :\",type(x_test))\n",
        "print(\"Shape of testing labels :\",y_test.shape)"
      ]
    },
    {
      "cell_type": "markdown",
      "metadata": {
        "id": "iqg3EApbxCMY"
      },
      "source": [
        "### Metadata for the data\n",
        "\n",
        "| Column Name \t| Description                                                           \t|\n",
        "|-------------\t|-----------------------------------------------------------------------\t|\n",
        "| CRIM        \t| per capita crime rate by town                                         \t|\n",
        "| ZN          \t| proportion of residential land zoned for lots over 25,000 sq.ft.      \t|\n",
        "| INDUS       \t| proportion of non-retail business acres per town                      \t|\n",
        "| CHAS        \t| Charles River dummy variable (= 1 if tract bounds river; 0 otherwise) \t|\n",
        "| NOX         \t| nitric oxides concentration (parts per 10 million)                    \t|\n",
        "| RM          \t| average number of rooms per dwelling                                  \t|\n",
        "| AGE         \t| proportion of owner-occupied units built prior to 1940                \t|\n",
        "| DIS         \t| weighted distances to five Boston employment centers                  \t|\n",
        "| RAD         \t| index of accessibility to radial highways                             \t|\n",
        "| TAX         \t| full-value property-tax rate per USD 10,000                              \t|\n",
        "| PTRATIO     \t| pupil-teacher ratio by town                                           \t|\n",
        "| B           \t| 1000(Bk - 0.63)^2 where Bk is the proportion of blacks by town        \t|\n",
        "| LSTAT       \t| Percent lower status of the population                                \t|\n",
        "| MEDV        \t| Median value of owner-occupied homes in USD 1000's                       \t|"
      ]
    },
    {
      "cell_type": "code",
      "execution_count": 10,
      "metadata": {
        "id": "QjihHcVMxCMe",
        "outputId": "e058f7e4-db4e-476d-a3a8-c71051e8389c",
        "colab": {
          "base_uri": "https://localhost:8080/"
        }
      },
      "outputs": [
        {
          "output_type": "execute_result",
          "data": {
            "text/plain": [
              "array([[0.88234931, 0.10432774, 0.90700933, 0.3063989 , 0.44640887,\n",
              "        0.58998539, 0.8371111 , 0.69780061, 0.80280284, 0.10721508],\n",
              "       [0.75709253, 0.99967101, 0.725931  , 0.14144824, 0.3567206 ,\n",
              "        0.94270411, 0.61016189, 0.22757747, 0.66873237, 0.69290455],\n",
              "       [0.41686251, 0.17180956, 0.97689051, 0.33022414, 0.62904415,\n",
              "        0.16061095, 0.08995264, 0.97082236, 0.81657757, 0.57136573]])"
            ]
          },
          "metadata": {},
          "execution_count": 10
        }
      ],
      "source": [
        "x_train[:3,:]"
      ]
    },
    {
      "cell_type": "markdown",
      "metadata": {
        "id": "pzyu07PBxCMj"
      },
      "source": [
        "### Desing the neural network"
      ]
    },
    {
      "cell_type": "code",
      "execution_count": 12,
      "metadata": {
        "id": "4YuMUKZVxCMn"
      },
      "outputs": [],
      "source": [
        "import numpy as np\n",
        "from keras.models import Sequential\n",
        "from keras.layers import Dense, Activation\n",
        "\n",
        "#Extract the last 100 rows from the training data to create the validation datasets.\n",
        "x_val = x_train[300:,]\n",
        "y_val = y_train[300:,]\n",
        "\n",
        "#Define the model architecture\n",
        "model = Sequential()\n",
        "model.add(Dense(13, input_dim=13, kernel_initializer='normal', activation='relu'))\n",
        "model.add(Dense(6, kernel_initializer='normal', activation='relu'))\n",
        "model.add(Dense(1, kernel_initializer='normal'))\n",
        "\n",
        "# Compile model\n",
        "model.compile(loss='mean_squared_error', optimizer='adam', metrics=['mean_absolute_percentage_error'])\n",
        "\n",
        "#Train the model\n",
        "model.add(Dense(13, input_dim=10, kernel_initializer='normal', activation='relu'))\n",
        "\n"
      ]
    },
    {
      "cell_type": "code",
      "execution_count": null,
      "metadata": {
        "id": "3kPE7MtyxCMw"
      },
      "outputs": [],
      "source": [
        "# Evaluate the model on the test dataset\n",
        "results = model.evaluate(x_test, y_test)\n",
        "\n",
        "# Loop through the metrics and print the results\n",
        "for i in range(len(model.metrics_names)):\n",
        "    print(model.metrics_names[i], \":\", results[i])\n"
      ]
    },
    {
      "cell_type": "code",
      "execution_count": null,
      "metadata": {
        "id": "CPNWFFyaxCM1"
      },
      "outputs": [],
      "source": [
        "#Train the model\n",
        "model.fit(x_train, y_train, batch_size=32, epochs=30, validation_data=(x_val,y_val))\n"
      ]
    },
    {
      "cell_type": "code",
      "execution_count": null,
      "metadata": {
        "id": "yeM_p97_xCM6",
        "outputId": "539a8725-8e6d-48f6-c3b1-a7b3ac1c3d84"
      },
      "outputs": [
        {
          "name": "stdout",
          "output_type": "stream",
          "text": [
            "102/102 [==============================] - 0s 43us/step\n",
            "loss  :  49.132040584788605\n",
            "mean_absolute_percentage_error  :  25.194283765905045\n"
          ]
        }
      ],
      "source": [
        "results = model.evaluate(x_test, y_test)\n",
        "\n",
        "for i in range(len(model.metrics_names)):\n",
        "    print(model.metrics_names[i],\" : \", results[i])\n",
        "\n"
      ]
    },
    {
      "cell_type": "code",
      "execution_count": null,
      "metadata": {
        "id": "_2Alhek4xCM-"
      },
      "outputs": [],
      "source": []
    }
  ],
  "metadata": {
    "colab": {
      "provenance": [],
      "include_colab_link": true
    },
    "kernelspec": {
      "display_name": "Python 3",
      "language": "python",
      "name": "python3"
    },
    "language_info": {
      "codemirror_mode": {
        "name": "ipython",
        "version": 3
      },
      "file_extension": ".py",
      "mimetype": "text/x-python",
      "name": "python",
      "nbconvert_exporter": "python",
      "pygments_lexer": "ipython3",
      "version": "3.6.5"
    }
  },
  "nbformat": 4,
  "nbformat_minor": 0
}